{
 "cells": [
  {
   "cell_type": "code",
   "execution_count": 1,
   "id": "d11b784a",
   "metadata": {
    "_cell_guid": "b1076dfc-b9ad-4769-8c92-a6c4dae69d19",
    "_uuid": "8f2839f25d086af736a60e9eeb907d3b93b6e0e5",
    "execution": {
     "iopub.execute_input": "2023-10-25T00:59:39.826358Z",
     "iopub.status.busy": "2023-10-25T00:59:39.825605Z",
     "iopub.status.idle": "2023-10-25T00:59:40.314902Z",
     "shell.execute_reply": "2023-10-25T00:59:40.313856Z"
    },
    "papermill": {
     "duration": 0.506505,
     "end_time": "2023-10-25T00:59:40.319195",
     "exception": false,
     "start_time": "2023-10-25T00:59:39.812690",
     "status": "completed"
    },
    "tags": []
   },
   "outputs": [
    {
     "name": "stdout",
     "output_type": "stream",
     "text": [
      "/kaggle/input/heart-failure-prediction/heart.csv\n"
     ]
    }
   ],
   "source": [
    "# This Python 3 environment comes with many helpful analytics libraries installed\n",
    "# It is defined by the kaggle/python Docker image: https://github.com/kaggle/docker-python\n",
    "# For example, here's several helpful packages to load\n",
    "\n",
    "import numpy as np # linear algebra\n",
    "import pandas as pd # data processing, CSV file I/O (e.g. pd.read_csv)\n",
    "\n",
    "# Input data files are available in the read-only \"../input/\" directory\n",
    "# For example, running this (by clicking run or pressing Shift+Enter) will list all files under the input directory\n",
    "\n",
    "import os\n",
    "for dirname, _, filenames in os.walk('/kaggle/input'):\n",
    "    for filename in filenames:\n",
    "        print(os.path.join(dirname, filename))\n",
    "\n",
    "# You can write up to 20GB to the current directory (/kaggle/working/) that gets preserved as output when you create a version using \"Save & Run All\" \n",
    "# You can also write temporary files to /kaggle/temp/, but they won't be saved outside of the current session"
   ]
  },
  {
   "cell_type": "markdown",
   "id": "b59d5904",
   "metadata": {
    "papermill": {
     "duration": 0.00744,
     "end_time": "2023-10-25T00:59:40.334211",
     "exception": false,
     "start_time": "2023-10-25T00:59:40.326771",
     "status": "completed"
    },
    "tags": []
   },
   "source": [
    "Executed a comprehensive data mining project utilizing the CRISP-DM cycle, aiming to predict heart disease in individuals.\n",
    "Managed data preparation, transformation, and modeling, employing stratified K-fold cross-validation with Decision Trees\n",
    "(’gini’ and ’entropy’) for rigorous model evaluation using Jupyter notebook environment to code and execute the project.\n"
   ]
  },
  {
   "cell_type": "code",
   "execution_count": 2,
   "id": "67a63a67",
   "metadata": {
    "execution": {
     "iopub.execute_input": "2023-10-25T00:59:40.351411Z",
     "iopub.status.busy": "2023-10-25T00:59:40.350141Z",
     "iopub.status.idle": "2023-10-25T00:59:42.786460Z",
     "shell.execute_reply": "2023-10-25T00:59:42.785157Z"
    },
    "papermill": {
     "duration": 2.447929,
     "end_time": "2023-10-25T00:59:42.789436",
     "exception": false,
     "start_time": "2023-10-25T00:59:40.341507",
     "status": "completed"
    },
    "tags": []
   },
   "outputs": [],
   "source": [
    "from sklearn.datasets import load_iris\n",
    "import numpy as rrr\n",
    "import matplotlib.pyplot as plt\n",
    "import pandas as rm\n",
    "from sklearn.metrics import accuracy_score\n",
    "import seaborn as sns\n",
    "from sklearn.tree import DecisionTreeClassifier\n",
    "from sklearn.model_selection import StratifiedKFold,GridSearchCV,train_test_split\n",
    "set=rm.read_csv('/kaggle/input/heart-failure-prediction/heart.csv')"
   ]
  },
  {
   "cell_type": "code",
   "execution_count": 3,
   "id": "afd68260",
   "metadata": {
    "execution": {
     "iopub.execute_input": "2023-10-25T00:59:42.805689Z",
     "iopub.status.busy": "2023-10-25T00:59:42.805197Z",
     "iopub.status.idle": "2023-10-25T00:59:42.835305Z",
     "shell.execute_reply": "2023-10-25T00:59:42.834018Z"
    },
    "papermill": {
     "duration": 0.041255,
     "end_time": "2023-10-25T00:59:42.837927",
     "exception": false,
     "start_time": "2023-10-25T00:59:42.796672",
     "status": "completed"
    },
    "tags": []
   },
   "outputs": [
    {
     "data": {
      "text/html": [
       "<div>\n",
       "<style scoped>\n",
       "    .dataframe tbody tr th:only-of-type {\n",
       "        vertical-align: middle;\n",
       "    }\n",
       "\n",
       "    .dataframe tbody tr th {\n",
       "        vertical-align: top;\n",
       "    }\n",
       "\n",
       "    .dataframe thead th {\n",
       "        text-align: right;\n",
       "    }\n",
       "</style>\n",
       "<table border=\"1\" class=\"dataframe\">\n",
       "  <thead>\n",
       "    <tr style=\"text-align: right;\">\n",
       "      <th></th>\n",
       "      <th>Age</th>\n",
       "      <th>Sex</th>\n",
       "      <th>ChestPainType</th>\n",
       "      <th>RestingBP</th>\n",
       "      <th>Cholesterol</th>\n",
       "      <th>FastingBS</th>\n",
       "      <th>RestingECG</th>\n",
       "      <th>MaxHR</th>\n",
       "      <th>ExerciseAngina</th>\n",
       "      <th>Oldpeak</th>\n",
       "      <th>ST_Slope</th>\n",
       "      <th>HeartDisease</th>\n",
       "    </tr>\n",
       "  </thead>\n",
       "  <tbody>\n",
       "    <tr>\n",
       "      <th>0</th>\n",
       "      <td>40</td>\n",
       "      <td>M</td>\n",
       "      <td>ATA</td>\n",
       "      <td>140</td>\n",
       "      <td>289</td>\n",
       "      <td>0</td>\n",
       "      <td>Normal</td>\n",
       "      <td>172</td>\n",
       "      <td>N</td>\n",
       "      <td>0.0</td>\n",
       "      <td>Up</td>\n",
       "      <td>0</td>\n",
       "    </tr>\n",
       "    <tr>\n",
       "      <th>1</th>\n",
       "      <td>49</td>\n",
       "      <td>F</td>\n",
       "      <td>NAP</td>\n",
       "      <td>160</td>\n",
       "      <td>180</td>\n",
       "      <td>0</td>\n",
       "      <td>Normal</td>\n",
       "      <td>156</td>\n",
       "      <td>N</td>\n",
       "      <td>1.0</td>\n",
       "      <td>Flat</td>\n",
       "      <td>1</td>\n",
       "    </tr>\n",
       "    <tr>\n",
       "      <th>2</th>\n",
       "      <td>37</td>\n",
       "      <td>M</td>\n",
       "      <td>ATA</td>\n",
       "      <td>130</td>\n",
       "      <td>283</td>\n",
       "      <td>0</td>\n",
       "      <td>ST</td>\n",
       "      <td>98</td>\n",
       "      <td>N</td>\n",
       "      <td>0.0</td>\n",
       "      <td>Up</td>\n",
       "      <td>0</td>\n",
       "    </tr>\n",
       "    <tr>\n",
       "      <th>3</th>\n",
       "      <td>48</td>\n",
       "      <td>F</td>\n",
       "      <td>ASY</td>\n",
       "      <td>138</td>\n",
       "      <td>214</td>\n",
       "      <td>0</td>\n",
       "      <td>Normal</td>\n",
       "      <td>108</td>\n",
       "      <td>Y</td>\n",
       "      <td>1.5</td>\n",
       "      <td>Flat</td>\n",
       "      <td>1</td>\n",
       "    </tr>\n",
       "    <tr>\n",
       "      <th>4</th>\n",
       "      <td>54</td>\n",
       "      <td>M</td>\n",
       "      <td>NAP</td>\n",
       "      <td>150</td>\n",
       "      <td>195</td>\n",
       "      <td>0</td>\n",
       "      <td>Normal</td>\n",
       "      <td>122</td>\n",
       "      <td>N</td>\n",
       "      <td>0.0</td>\n",
       "      <td>Up</td>\n",
       "      <td>0</td>\n",
       "    </tr>\n",
       "  </tbody>\n",
       "</table>\n",
       "</div>"
      ],
      "text/plain": [
       "   Age Sex ChestPainType  RestingBP  Cholesterol  FastingBS RestingECG  MaxHR  \\\n",
       "0   40   M           ATA        140          289          0     Normal    172   \n",
       "1   49   F           NAP        160          180          0     Normal    156   \n",
       "2   37   M           ATA        130          283          0         ST     98   \n",
       "3   48   F           ASY        138          214          0     Normal    108   \n",
       "4   54   M           NAP        150          195          0     Normal    122   \n",
       "\n",
       "  ExerciseAngina  Oldpeak ST_Slope  HeartDisease  \n",
       "0              N      0.0       Up             0  \n",
       "1              N      1.0     Flat             1  \n",
       "2              N      0.0       Up             0  \n",
       "3              Y      1.5     Flat             1  \n",
       "4              N      0.0       Up             0  "
      ]
     },
     "execution_count": 3,
     "metadata": {},
     "output_type": "execute_result"
    }
   ],
   "source": [
    "set.head()"
   ]
  },
  {
   "cell_type": "code",
   "execution_count": 4,
   "id": "a108cedf",
   "metadata": {
    "execution": {
     "iopub.execute_input": "2023-10-25T00:59:42.855019Z",
     "iopub.status.busy": "2023-10-25T00:59:42.854617Z",
     "iopub.status.idle": "2023-10-25T00:59:42.862998Z",
     "shell.execute_reply": "2023-10-25T00:59:42.861860Z"
    },
    "papermill": {
     "duration": 0.019977,
     "end_time": "2023-10-25T00:59:42.865510",
     "exception": false,
     "start_time": "2023-10-25T00:59:42.845533",
     "status": "completed"
    },
    "tags": []
   },
   "outputs": [
    {
     "data": {
      "text/plain": [
       "Age                 int64\n",
       "Sex                object\n",
       "ChestPainType      object\n",
       "RestingBP           int64\n",
       "Cholesterol         int64\n",
       "FastingBS           int64\n",
       "RestingECG         object\n",
       "MaxHR               int64\n",
       "ExerciseAngina     object\n",
       "Oldpeak           float64\n",
       "ST_Slope           object\n",
       "HeartDisease        int64\n",
       "dtype: object"
      ]
     },
     "execution_count": 4,
     "metadata": {},
     "output_type": "execute_result"
    }
   ],
   "source": [
    "set.dtypes"
   ]
  },
  {
   "cell_type": "code",
   "execution_count": 5,
   "id": "9dbd4a25",
   "metadata": {
    "execution": {
     "iopub.execute_input": "2023-10-25T00:59:42.882441Z",
     "iopub.status.busy": "2023-10-25T00:59:42.882032Z",
     "iopub.status.idle": "2023-10-25T00:59:42.889669Z",
     "shell.execute_reply": "2023-10-25T00:59:42.888533Z"
    },
    "papermill": {
     "duration": 0.019144,
     "end_time": "2023-10-25T00:59:42.892161",
     "exception": false,
     "start_time": "2023-10-25T00:59:42.873017",
     "status": "completed"
    },
    "tags": []
   },
   "outputs": [
    {
     "data": {
      "text/plain": [
       "(918, 12)"
      ]
     },
     "execution_count": 5,
     "metadata": {},
     "output_type": "execute_result"
    }
   ],
   "source": [
    "set.shape"
   ]
  },
  {
   "cell_type": "code",
   "execution_count": 6,
   "id": "d9a72f4a",
   "metadata": {
    "execution": {
     "iopub.execute_input": "2023-10-25T00:59:42.909758Z",
     "iopub.status.busy": "2023-10-25T00:59:42.909316Z",
     "iopub.status.idle": "2023-10-25T00:59:42.921312Z",
     "shell.execute_reply": "2023-10-25T00:59:42.919904Z"
    },
    "papermill": {
     "duration": 0.024029,
     "end_time": "2023-10-25T00:59:42.924047",
     "exception": false,
     "start_time": "2023-10-25T00:59:42.900018",
     "status": "completed"
    },
    "tags": []
   },
   "outputs": [
    {
     "data": {
      "text/plain": [
       "Age               False\n",
       "Sex               False\n",
       "ChestPainType     False\n",
       "RestingBP         False\n",
       "Cholesterol       False\n",
       "FastingBS         False\n",
       "RestingECG        False\n",
       "MaxHR             False\n",
       "ExerciseAngina    False\n",
       "Oldpeak           False\n",
       "ST_Slope          False\n",
       "HeartDisease      False\n",
       "dtype: bool"
      ]
     },
     "execution_count": 6,
     "metadata": {},
     "output_type": "execute_result"
    }
   ],
   "source": [
    "# Data Preparation\n",
    "set.isna().any()"
   ]
  },
  {
   "cell_type": "code",
   "execution_count": 7,
   "id": "25558675",
   "metadata": {
    "execution": {
     "iopub.execute_input": "2023-10-25T00:59:42.942965Z",
     "iopub.status.busy": "2023-10-25T00:59:42.942554Z",
     "iopub.status.idle": "2023-10-25T00:59:42.953759Z",
     "shell.execute_reply": "2023-10-25T00:59:42.952618Z"
    },
    "papermill": {
     "duration": 0.024232,
     "end_time": "2023-10-25T00:59:42.956332",
     "exception": false,
     "start_time": "2023-10-25T00:59:42.932100",
     "status": "completed"
    },
    "tags": []
   },
   "outputs": [
    {
     "data": {
      "text/plain": [
       "Age               0\n",
       "Sex               0\n",
       "ChestPainType     0\n",
       "RestingBP         0\n",
       "Cholesterol       0\n",
       "FastingBS         0\n",
       "RestingECG        0\n",
       "MaxHR             0\n",
       "ExerciseAngina    0\n",
       "Oldpeak           0\n",
       "ST_Slope          0\n",
       "HeartDisease      0\n",
       "dtype: int64"
      ]
     },
     "execution_count": 7,
     "metadata": {},
     "output_type": "execute_result"
    }
   ],
   "source": [
    "set.isna().sum()"
   ]
  },
  {
   "cell_type": "code",
   "execution_count": 8,
   "id": "0f5a7a09",
   "metadata": {
    "execution": {
     "iopub.execute_input": "2023-10-25T00:59:42.974888Z",
     "iopub.status.busy": "2023-10-25T00:59:42.974448Z",
     "iopub.status.idle": "2023-10-25T00:59:42.981822Z",
     "shell.execute_reply": "2023-10-25T00:59:42.980770Z"
    },
    "papermill": {
     "duration": 0.019776,
     "end_time": "2023-10-25T00:59:42.984298",
     "exception": false,
     "start_time": "2023-10-25T00:59:42.964522",
     "status": "completed"
    },
    "tags": []
   },
   "outputs": [],
   "source": [
    "set.dropna(inplace = True)"
   ]
  },
  {
   "cell_type": "code",
   "execution_count": 9,
   "id": "14259f33",
   "metadata": {
    "execution": {
     "iopub.execute_input": "2023-10-25T00:59:43.002626Z",
     "iopub.status.busy": "2023-10-25T00:59:43.002167Z",
     "iopub.status.idle": "2023-10-25T00:59:43.019458Z",
     "shell.execute_reply": "2023-10-25T00:59:43.018617Z"
    },
    "papermill": {
     "duration": 0.0291,
     "end_time": "2023-10-25T00:59:43.021667",
     "exception": false,
     "start_time": "2023-10-25T00:59:42.992567",
     "status": "completed"
    },
    "tags": []
   },
   "outputs": [
    {
     "data": {
      "text/plain": [
       "Age               0\n",
       "Sex               0\n",
       "ChestPainType     0\n",
       "RestingBP         0\n",
       "Cholesterol       0\n",
       "FastingBS         0\n",
       "RestingECG        0\n",
       "MaxHR             0\n",
       "ExerciseAngina    0\n",
       "Oldpeak           0\n",
       "ST_Slope          0\n",
       "HeartDisease      0\n",
       "dtype: int64"
      ]
     },
     "execution_count": 9,
     "metadata": {},
     "output_type": "execute_result"
    }
   ],
   "source": [
    "set.isin(['Unknown']).sum(axis=0)"
   ]
  },
  {
   "cell_type": "code",
   "execution_count": 10,
   "id": "b2f5cd6e",
   "metadata": {
    "execution": {
     "iopub.execute_input": "2023-10-25T00:59:43.040199Z",
     "iopub.status.busy": "2023-10-25T00:59:43.039804Z",
     "iopub.status.idle": "2023-10-25T00:59:43.046232Z",
     "shell.execute_reply": "2023-10-25T00:59:43.044974Z"
    },
    "papermill": {
     "duration": 0.018761,
     "end_time": "2023-10-25T00:59:43.048790",
     "exception": false,
     "start_time": "2023-10-25T00:59:43.030029",
     "status": "completed"
    },
    "tags": []
   },
   "outputs": [],
   "source": [
    "# Creating a dataframe for the transformed attributes\n",
    "processing=rm.DataFrame()"
   ]
  },
  {
   "cell_type": "code",
   "execution_count": 11,
   "id": "a8a4ba21",
   "metadata": {
    "execution": {
     "iopub.execute_input": "2023-10-25T00:59:43.067148Z",
     "iopub.status.busy": "2023-10-25T00:59:43.066722Z",
     "iopub.status.idle": "2023-10-25T00:59:43.084265Z",
     "shell.execute_reply": "2023-10-25T00:59:43.082970Z"
    },
    "papermill": {
     "duration": 0.030154,
     "end_time": "2023-10-25T00:59:43.087121",
     "exception": false,
     "start_time": "2023-10-25T00:59:43.056967",
     "status": "completed"
    },
    "tags": []
   },
   "outputs": [],
   "source": [
    "#placing all the categorical attributes in an array\n",
    "nom=['ChestPainType','RestingECG','Sex','ST_Slope']\n",
    "for l in nom:\n",
    "    new_nom=rm.get_dummies(set[l])\n",
    "    processing=rm.concat([processing,new_nom],axis=1)\n"
   ]
  },
  {
   "cell_type": "code",
   "execution_count": 12,
   "id": "a5075d6d",
   "metadata": {
    "execution": {
     "iopub.execute_input": "2023-10-25T00:59:43.105796Z",
     "iopub.status.busy": "2023-10-25T00:59:43.105349Z",
     "iopub.status.idle": "2023-10-25T00:59:43.113189Z",
     "shell.execute_reply": "2023-10-25T00:59:43.111976Z"
    },
    "papermill": {
     "duration": 0.020116,
     "end_time": "2023-10-25T00:59:43.115676",
     "exception": false,
     "start_time": "2023-10-25T00:59:43.095560",
     "status": "completed"
    },
    "tags": []
   },
   "outputs": [],
   "source": [
    "#Converting the exercise angina, 1 for yes and 0 for no\n",
    "exercise_a={'Y':1,'N':0}\n",
    "processing['ExerciseAngina']=set['ExerciseAngina'].map(exercise_a)\n"
   ]
  },
  {
   "cell_type": "code",
   "execution_count": 13,
   "id": "fd9d05dd",
   "metadata": {
    "execution": {
     "iopub.execute_input": "2023-10-25T00:59:43.134608Z",
     "iopub.status.busy": "2023-10-25T00:59:43.134072Z",
     "iopub.status.idle": "2023-10-25T00:59:43.170035Z",
     "shell.execute_reply": "2023-10-25T00:59:43.168891Z"
    },
    "papermill": {
     "duration": 0.048627,
     "end_time": "2023-10-25T00:59:43.172752",
     "exception": false,
     "start_time": "2023-10-25T00:59:43.124125",
     "status": "completed"
    },
    "tags": []
   },
   "outputs": [
    {
     "data": {
      "text/html": [
       "<div>\n",
       "<style scoped>\n",
       "    .dataframe tbody tr th:only-of-type {\n",
       "        vertical-align: middle;\n",
       "    }\n",
       "\n",
       "    .dataframe tbody tr th {\n",
       "        vertical-align: top;\n",
       "    }\n",
       "\n",
       "    .dataframe thead th {\n",
       "        text-align: right;\n",
       "    }\n",
       "</style>\n",
       "<table border=\"1\" class=\"dataframe\">\n",
       "  <thead>\n",
       "    <tr style=\"text-align: right;\">\n",
       "      <th></th>\n",
       "      <th>ASY</th>\n",
       "      <th>ATA</th>\n",
       "      <th>NAP</th>\n",
       "      <th>TA</th>\n",
       "      <th>LVH</th>\n",
       "      <th>Normal</th>\n",
       "      <th>ST</th>\n",
       "      <th>F</th>\n",
       "      <th>M</th>\n",
       "      <th>Down</th>\n",
       "      <th>Flat</th>\n",
       "      <th>Up</th>\n",
       "      <th>ExerciseAngina</th>\n",
       "      <th>FastingBS</th>\n",
       "    </tr>\n",
       "  </thead>\n",
       "  <tbody>\n",
       "    <tr>\n",
       "      <th>0</th>\n",
       "      <td>False</td>\n",
       "      <td>True</td>\n",
       "      <td>False</td>\n",
       "      <td>False</td>\n",
       "      <td>False</td>\n",
       "      <td>True</td>\n",
       "      <td>False</td>\n",
       "      <td>False</td>\n",
       "      <td>True</td>\n",
       "      <td>False</td>\n",
       "      <td>False</td>\n",
       "      <td>True</td>\n",
       "      <td>0</td>\n",
       "      <td>0</td>\n",
       "    </tr>\n",
       "    <tr>\n",
       "      <th>1</th>\n",
       "      <td>False</td>\n",
       "      <td>False</td>\n",
       "      <td>True</td>\n",
       "      <td>False</td>\n",
       "      <td>False</td>\n",
       "      <td>True</td>\n",
       "      <td>False</td>\n",
       "      <td>True</td>\n",
       "      <td>False</td>\n",
       "      <td>False</td>\n",
       "      <td>True</td>\n",
       "      <td>False</td>\n",
       "      <td>0</td>\n",
       "      <td>0</td>\n",
       "    </tr>\n",
       "    <tr>\n",
       "      <th>2</th>\n",
       "      <td>False</td>\n",
       "      <td>True</td>\n",
       "      <td>False</td>\n",
       "      <td>False</td>\n",
       "      <td>False</td>\n",
       "      <td>False</td>\n",
       "      <td>True</td>\n",
       "      <td>False</td>\n",
       "      <td>True</td>\n",
       "      <td>False</td>\n",
       "      <td>False</td>\n",
       "      <td>True</td>\n",
       "      <td>0</td>\n",
       "      <td>0</td>\n",
       "    </tr>\n",
       "    <tr>\n",
       "      <th>3</th>\n",
       "      <td>True</td>\n",
       "      <td>False</td>\n",
       "      <td>False</td>\n",
       "      <td>False</td>\n",
       "      <td>False</td>\n",
       "      <td>True</td>\n",
       "      <td>False</td>\n",
       "      <td>True</td>\n",
       "      <td>False</td>\n",
       "      <td>False</td>\n",
       "      <td>True</td>\n",
       "      <td>False</td>\n",
       "      <td>1</td>\n",
       "      <td>0</td>\n",
       "    </tr>\n",
       "    <tr>\n",
       "      <th>4</th>\n",
       "      <td>False</td>\n",
       "      <td>False</td>\n",
       "      <td>True</td>\n",
       "      <td>False</td>\n",
       "      <td>False</td>\n",
       "      <td>True</td>\n",
       "      <td>False</td>\n",
       "      <td>False</td>\n",
       "      <td>True</td>\n",
       "      <td>False</td>\n",
       "      <td>False</td>\n",
       "      <td>True</td>\n",
       "      <td>0</td>\n",
       "      <td>0</td>\n",
       "    </tr>\n",
       "  </tbody>\n",
       "</table>\n",
       "</div>"
      ],
      "text/plain": [
       "     ASY    ATA    NAP     TA    LVH  Normal     ST      F      M   Down  \\\n",
       "0  False   True  False  False  False    True  False  False   True  False   \n",
       "1  False  False   True  False  False    True  False   True  False  False   \n",
       "2  False   True  False  False  False   False   True  False   True  False   \n",
       "3   True  False  False  False  False    True  False   True  False  False   \n",
       "4  False  False   True  False  False    True  False  False   True  False   \n",
       "\n",
       "    Flat     Up  ExerciseAngina  FastingBS  \n",
       "0  False   True               0          0  \n",
       "1   True  False               0          0  \n",
       "2  False   True               0          0  \n",
       "3   True  False               1          0  \n",
       "4  False   True               0          0  "
      ]
     },
     "execution_count": 13,
     "metadata": {},
     "output_type": "execute_result"
    }
   ],
   "source": [
    "#Adding the remaining attributes for the data frame\n",
    "remain=rm.DataFrame([set['FastingBS']]).T\n",
    "remain.columns=['FastingBS']\n",
    "processing=rm.concat([processing,remain],axis=1)\n",
    "processing.head()\n"
   ]
  },
  {
   "cell_type": "code",
   "execution_count": 14,
   "id": "9afac25a",
   "metadata": {
    "execution": {
     "iopub.execute_input": "2023-10-25T00:59:43.191832Z",
     "iopub.status.busy": "2023-10-25T00:59:43.191372Z",
     "iopub.status.idle": "2023-10-25T00:59:43.233017Z",
     "shell.execute_reply": "2023-10-25T00:59:43.231570Z"
    },
    "papermill": {
     "duration": 0.054476,
     "end_time": "2023-10-25T00:59:43.235664",
     "exception": false,
     "start_time": "2023-10-25T00:59:43.181188",
     "status": "completed"
    },
    "tags": []
   },
   "outputs": [
    {
     "name": "stdout",
     "output_type": "stream",
     "text": [
      "(918, 19)\n"
     ]
    },
    {
     "data": {
      "text/html": [
       "<div>\n",
       "<style scoped>\n",
       "    .dataframe tbody tr th:only-of-type {\n",
       "        vertical-align: middle;\n",
       "    }\n",
       "\n",
       "    .dataframe tbody tr th {\n",
       "        vertical-align: top;\n",
       "    }\n",
       "\n",
       "    .dataframe thead th {\n",
       "        text-align: right;\n",
       "    }\n",
       "</style>\n",
       "<table border=\"1\" class=\"dataframe\">\n",
       "  <thead>\n",
       "    <tr style=\"text-align: right;\">\n",
       "      <th></th>\n",
       "      <th>ASY</th>\n",
       "      <th>ATA</th>\n",
       "      <th>NAP</th>\n",
       "      <th>TA</th>\n",
       "      <th>LVH</th>\n",
       "      <th>Normal</th>\n",
       "      <th>ST</th>\n",
       "      <th>F</th>\n",
       "      <th>M</th>\n",
       "      <th>Down</th>\n",
       "      <th>Flat</th>\n",
       "      <th>Up</th>\n",
       "      <th>ExerciseAngina</th>\n",
       "      <th>FastingBS</th>\n",
       "      <th>Age</th>\n",
       "      <th>RestingBP</th>\n",
       "      <th>Cholesterol</th>\n",
       "      <th>MaxHR</th>\n",
       "      <th>Oldpeak</th>\n",
       "    </tr>\n",
       "  </thead>\n",
       "  <tbody>\n",
       "    <tr>\n",
       "      <th>0</th>\n",
       "      <td>False</td>\n",
       "      <td>True</td>\n",
       "      <td>False</td>\n",
       "      <td>False</td>\n",
       "      <td>False</td>\n",
       "      <td>True</td>\n",
       "      <td>False</td>\n",
       "      <td>False</td>\n",
       "      <td>True</td>\n",
       "      <td>False</td>\n",
       "      <td>False</td>\n",
       "      <td>True</td>\n",
       "      <td>0</td>\n",
       "      <td>0</td>\n",
       "      <td>-1.433140</td>\n",
       "      <td>0.410909</td>\n",
       "      <td>0.825070</td>\n",
       "      <td>1.382928</td>\n",
       "      <td>-0.832432</td>\n",
       "    </tr>\n",
       "    <tr>\n",
       "      <th>1</th>\n",
       "      <td>False</td>\n",
       "      <td>False</td>\n",
       "      <td>True</td>\n",
       "      <td>False</td>\n",
       "      <td>False</td>\n",
       "      <td>True</td>\n",
       "      <td>False</td>\n",
       "      <td>True</td>\n",
       "      <td>False</td>\n",
       "      <td>False</td>\n",
       "      <td>True</td>\n",
       "      <td>False</td>\n",
       "      <td>0</td>\n",
       "      <td>0</td>\n",
       "      <td>-0.478484</td>\n",
       "      <td>1.491752</td>\n",
       "      <td>-0.171961</td>\n",
       "      <td>0.754157</td>\n",
       "      <td>0.105664</td>\n",
       "    </tr>\n",
       "    <tr>\n",
       "      <th>2</th>\n",
       "      <td>False</td>\n",
       "      <td>True</td>\n",
       "      <td>False</td>\n",
       "      <td>False</td>\n",
       "      <td>False</td>\n",
       "      <td>False</td>\n",
       "      <td>True</td>\n",
       "      <td>False</td>\n",
       "      <td>True</td>\n",
       "      <td>False</td>\n",
       "      <td>False</td>\n",
       "      <td>True</td>\n",
       "      <td>0</td>\n",
       "      <td>0</td>\n",
       "      <td>-1.751359</td>\n",
       "      <td>-0.129513</td>\n",
       "      <td>0.770188</td>\n",
       "      <td>-1.525138</td>\n",
       "      <td>-0.832432</td>\n",
       "    </tr>\n",
       "    <tr>\n",
       "      <th>3</th>\n",
       "      <td>True</td>\n",
       "      <td>False</td>\n",
       "      <td>False</td>\n",
       "      <td>False</td>\n",
       "      <td>False</td>\n",
       "      <td>True</td>\n",
       "      <td>False</td>\n",
       "      <td>True</td>\n",
       "      <td>False</td>\n",
       "      <td>False</td>\n",
       "      <td>True</td>\n",
       "      <td>False</td>\n",
       "      <td>1</td>\n",
       "      <td>0</td>\n",
       "      <td>-0.584556</td>\n",
       "      <td>0.302825</td>\n",
       "      <td>0.139040</td>\n",
       "      <td>-1.132156</td>\n",
       "      <td>0.574711</td>\n",
       "    </tr>\n",
       "    <tr>\n",
       "      <th>4</th>\n",
       "      <td>False</td>\n",
       "      <td>False</td>\n",
       "      <td>True</td>\n",
       "      <td>False</td>\n",
       "      <td>False</td>\n",
       "      <td>True</td>\n",
       "      <td>False</td>\n",
       "      <td>False</td>\n",
       "      <td>True</td>\n",
       "      <td>False</td>\n",
       "      <td>False</td>\n",
       "      <td>True</td>\n",
       "      <td>0</td>\n",
       "      <td>0</td>\n",
       "      <td>0.051881</td>\n",
       "      <td>0.951331</td>\n",
       "      <td>-0.034755</td>\n",
       "      <td>-0.581981</td>\n",
       "      <td>-0.832432</td>\n",
       "    </tr>\n",
       "    <tr>\n",
       "      <th>5</th>\n",
       "      <td>False</td>\n",
       "      <td>False</td>\n",
       "      <td>True</td>\n",
       "      <td>False</td>\n",
       "      <td>False</td>\n",
       "      <td>True</td>\n",
       "      <td>False</td>\n",
       "      <td>False</td>\n",
       "      <td>True</td>\n",
       "      <td>False</td>\n",
       "      <td>False</td>\n",
       "      <td>True</td>\n",
       "      <td>0</td>\n",
       "      <td>0</td>\n",
       "      <td>-1.539213</td>\n",
       "      <td>-0.669935</td>\n",
       "      <td>1.282424</td>\n",
       "      <td>1.304332</td>\n",
       "      <td>-0.832432</td>\n",
       "    </tr>\n",
       "    <tr>\n",
       "      <th>6</th>\n",
       "      <td>False</td>\n",
       "      <td>True</td>\n",
       "      <td>False</td>\n",
       "      <td>False</td>\n",
       "      <td>False</td>\n",
       "      <td>True</td>\n",
       "      <td>False</td>\n",
       "      <td>True</td>\n",
       "      <td>False</td>\n",
       "      <td>False</td>\n",
       "      <td>False</td>\n",
       "      <td>True</td>\n",
       "      <td>0</td>\n",
       "      <td>0</td>\n",
       "      <td>-0.902775</td>\n",
       "      <td>-0.129513</td>\n",
       "      <td>0.349422</td>\n",
       "      <td>1.304332</td>\n",
       "      <td>-0.832432</td>\n",
       "    </tr>\n",
       "    <tr>\n",
       "      <th>7</th>\n",
       "      <td>False</td>\n",
       "      <td>True</td>\n",
       "      <td>False</td>\n",
       "      <td>False</td>\n",
       "      <td>False</td>\n",
       "      <td>True</td>\n",
       "      <td>False</td>\n",
       "      <td>False</td>\n",
       "      <td>True</td>\n",
       "      <td>False</td>\n",
       "      <td>False</td>\n",
       "      <td>True</td>\n",
       "      <td>0</td>\n",
       "      <td>0</td>\n",
       "      <td>0.051881</td>\n",
       "      <td>-1.210356</td>\n",
       "      <td>0.084157</td>\n",
       "      <td>0.203982</td>\n",
       "      <td>-0.832432</td>\n",
       "    </tr>\n",
       "    <tr>\n",
       "      <th>8</th>\n",
       "      <td>True</td>\n",
       "      <td>False</td>\n",
       "      <td>False</td>\n",
       "      <td>False</td>\n",
       "      <td>False</td>\n",
       "      <td>True</td>\n",
       "      <td>False</td>\n",
       "      <td>False</td>\n",
       "      <td>True</td>\n",
       "      <td>False</td>\n",
       "      <td>True</td>\n",
       "      <td>False</td>\n",
       "      <td>1</td>\n",
       "      <td>0</td>\n",
       "      <td>-1.751359</td>\n",
       "      <td>0.410909</td>\n",
       "      <td>0.075010</td>\n",
       "      <td>-0.267596</td>\n",
       "      <td>0.574711</td>\n",
       "    </tr>\n",
       "    <tr>\n",
       "      <th>9</th>\n",
       "      <td>False</td>\n",
       "      <td>True</td>\n",
       "      <td>False</td>\n",
       "      <td>False</td>\n",
       "      <td>False</td>\n",
       "      <td>True</td>\n",
       "      <td>False</td>\n",
       "      <td>True</td>\n",
       "      <td>False</td>\n",
       "      <td>False</td>\n",
       "      <td>False</td>\n",
       "      <td>True</td>\n",
       "      <td>0</td>\n",
       "      <td>0</td>\n",
       "      <td>-0.584556</td>\n",
       "      <td>-0.669935</td>\n",
       "      <td>0.779335</td>\n",
       "      <td>-0.660578</td>\n",
       "      <td>-0.832432</td>\n",
       "    </tr>\n",
       "    <tr>\n",
       "      <th>10</th>\n",
       "      <td>False</td>\n",
       "      <td>False</td>\n",
       "      <td>True</td>\n",
       "      <td>False</td>\n",
       "      <td>False</td>\n",
       "      <td>True</td>\n",
       "      <td>False</td>\n",
       "      <td>True</td>\n",
       "      <td>False</td>\n",
       "      <td>False</td>\n",
       "      <td>False</td>\n",
       "      <td>True</td>\n",
       "      <td>0</td>\n",
       "      <td>0</td>\n",
       "      <td>-1.751359</td>\n",
       "      <td>-0.129513</td>\n",
       "      <td>0.111598</td>\n",
       "      <td>0.203982</td>\n",
       "      <td>-0.832432</td>\n",
       "    </tr>\n",
       "    <tr>\n",
       "      <th>11</th>\n",
       "      <td>False</td>\n",
       "      <td>True</td>\n",
       "      <td>False</td>\n",
       "      <td>False</td>\n",
       "      <td>False</td>\n",
       "      <td>False</td>\n",
       "      <td>True</td>\n",
       "      <td>False</td>\n",
       "      <td>True</td>\n",
       "      <td>False</td>\n",
       "      <td>True</td>\n",
       "      <td>False</td>\n",
       "      <td>1</td>\n",
       "      <td>0</td>\n",
       "      <td>0.476173</td>\n",
       "      <td>0.194740</td>\n",
       "      <td>-0.318314</td>\n",
       "      <td>-1.485840</td>\n",
       "      <td>1.043759</td>\n",
       "    </tr>\n",
       "    <tr>\n",
       "      <th>12</th>\n",
       "      <td>False</td>\n",
       "      <td>True</td>\n",
       "      <td>False</td>\n",
       "      <td>False</td>\n",
       "      <td>False</td>\n",
       "      <td>True</td>\n",
       "      <td>False</td>\n",
       "      <td>False</td>\n",
       "      <td>True</td>\n",
       "      <td>False</td>\n",
       "      <td>False</td>\n",
       "      <td>True</td>\n",
       "      <td>0</td>\n",
       "      <td>0</td>\n",
       "      <td>-1.539213</td>\n",
       "      <td>-0.669935</td>\n",
       "      <td>0.047569</td>\n",
       "      <td>0.321877</td>\n",
       "      <td>-0.832432</td>\n",
       "    </tr>\n",
       "    <tr>\n",
       "      <th>13</th>\n",
       "      <td>True</td>\n",
       "      <td>False</td>\n",
       "      <td>False</td>\n",
       "      <td>False</td>\n",
       "      <td>False</td>\n",
       "      <td>True</td>\n",
       "      <td>False</td>\n",
       "      <td>False</td>\n",
       "      <td>True</td>\n",
       "      <td>False</td>\n",
       "      <td>True</td>\n",
       "      <td>False</td>\n",
       "      <td>1</td>\n",
       "      <td>0</td>\n",
       "      <td>-0.478484</td>\n",
       "      <td>0.410909</td>\n",
       "      <td>0.321981</td>\n",
       "      <td>0.125386</td>\n",
       "      <td>0.105664</td>\n",
       "    </tr>\n",
       "    <tr>\n",
       "      <th>14</th>\n",
       "      <td>False</td>\n",
       "      <td>False</td>\n",
       "      <td>True</td>\n",
       "      <td>False</td>\n",
       "      <td>False</td>\n",
       "      <td>False</td>\n",
       "      <td>True</td>\n",
       "      <td>True</td>\n",
       "      <td>False</td>\n",
       "      <td>False</td>\n",
       "      <td>False</td>\n",
       "      <td>True</td>\n",
       "      <td>0</td>\n",
       "      <td>0</td>\n",
       "      <td>-1.220994</td>\n",
       "      <td>-0.940145</td>\n",
       "      <td>0.111598</td>\n",
       "      <td>0.007491</td>\n",
       "      <td>-0.832432</td>\n",
       "    </tr>\n",
       "  </tbody>\n",
       "</table>\n",
       "</div>"
      ],
      "text/plain": [
       "      ASY    ATA    NAP     TA    LVH  Normal     ST      F      M   Down  \\\n",
       "0   False   True  False  False  False    True  False  False   True  False   \n",
       "1   False  False   True  False  False    True  False   True  False  False   \n",
       "2   False   True  False  False  False   False   True  False   True  False   \n",
       "3    True  False  False  False  False    True  False   True  False  False   \n",
       "4   False  False   True  False  False    True  False  False   True  False   \n",
       "5   False  False   True  False  False    True  False  False   True  False   \n",
       "6   False   True  False  False  False    True  False   True  False  False   \n",
       "7   False   True  False  False  False    True  False  False   True  False   \n",
       "8    True  False  False  False  False    True  False  False   True  False   \n",
       "9   False   True  False  False  False    True  False   True  False  False   \n",
       "10  False  False   True  False  False    True  False   True  False  False   \n",
       "11  False   True  False  False  False   False   True  False   True  False   \n",
       "12  False   True  False  False  False    True  False  False   True  False   \n",
       "13   True  False  False  False  False    True  False  False   True  False   \n",
       "14  False  False   True  False  False   False   True   True  False  False   \n",
       "\n",
       "     Flat     Up  ExerciseAngina  FastingBS       Age  RestingBP  Cholesterol  \\\n",
       "0   False   True               0          0 -1.433140   0.410909     0.825070   \n",
       "1    True  False               0          0 -0.478484   1.491752    -0.171961   \n",
       "2   False   True               0          0 -1.751359  -0.129513     0.770188   \n",
       "3    True  False               1          0 -0.584556   0.302825     0.139040   \n",
       "4   False   True               0          0  0.051881   0.951331    -0.034755   \n",
       "5   False   True               0          0 -1.539213  -0.669935     1.282424   \n",
       "6   False   True               0          0 -0.902775  -0.129513     0.349422   \n",
       "7   False   True               0          0  0.051881  -1.210356     0.084157   \n",
       "8    True  False               1          0 -1.751359   0.410909     0.075010   \n",
       "9   False   True               0          0 -0.584556  -0.669935     0.779335   \n",
       "10  False   True               0          0 -1.751359  -0.129513     0.111598   \n",
       "11   True  False               1          0  0.476173   0.194740    -0.318314   \n",
       "12  False   True               0          0 -1.539213  -0.669935     0.047569   \n",
       "13   True  False               1          0 -0.478484   0.410909     0.321981   \n",
       "14  False   True               0          0 -1.220994  -0.940145     0.111598   \n",
       "\n",
       "       MaxHR   Oldpeak  \n",
       "0   1.382928 -0.832432  \n",
       "1   0.754157  0.105664  \n",
       "2  -1.525138 -0.832432  \n",
       "3  -1.132156  0.574711  \n",
       "4  -0.581981 -0.832432  \n",
       "5   1.304332 -0.832432  \n",
       "6   1.304332 -0.832432  \n",
       "7   0.203982 -0.832432  \n",
       "8  -0.267596  0.574711  \n",
       "9  -0.660578 -0.832432  \n",
       "10  0.203982 -0.832432  \n",
       "11 -1.485840  1.043759  \n",
       "12  0.321877 -0.832432  \n",
       "13  0.125386  0.105664  \n",
       "14  0.007491 -0.832432  "
      ]
     },
     "execution_count": 14,
     "metadata": {},
     "output_type": "execute_result"
    }
   ],
   "source": [
    "#For Ratio attributes\n",
    "#Creating a function to give the values of the columns\n",
    "def set_std_scale(item):\n",
    "#Calculating the average and standard deviation for all the values\n",
    "    aveg=np.mean(set[item],axis=0)\n",
    "    dev=np.std(set[item],axis=0)\n",
    "    processing[item]=(set[item]-aveg)/dev\n",
    "#For loop to pass all the ratio attributes for calculating\n",
    "for item in ['Age','RestingBP','Cholesterol','MaxHR','Oldpeak']:\n",
    "    set_std_scale(item)\n",
    "#printing the number of columns and rows for the resultant data frame\n",
    "print(processing.shape)\n",
    "processing.head(15)"
   ]
  },
  {
   "cell_type": "code",
   "execution_count": 15,
   "id": "b7325258",
   "metadata": {
    "execution": {
     "iopub.execute_input": "2023-10-25T00:59:43.256618Z",
     "iopub.status.busy": "2023-10-25T00:59:43.256170Z",
     "iopub.status.idle": "2023-10-25T00:59:43.261859Z",
     "shell.execute_reply": "2023-10-25T00:59:43.260562Z"
    },
    "papermill": {
     "duration": 0.019139,
     "end_time": "2023-10-25T00:59:43.264454",
     "exception": false,
     "start_time": "2023-10-25T00:59:43.245315",
     "status": "completed"
    },
    "tags": []
   },
   "outputs": [],
   "source": [
    "# Data modeling - K - Stratified  cross validation\n",
    "#Creating an empty array for accuracy of gini index\n",
    "accuracy_1=[]\n",
    "#Creating an empty array for accuracy for entropy index\n",
    "accuracy_2=[]\n"
   ]
  },
  {
   "cell_type": "code",
   "execution_count": 16,
   "id": "eda3ee4e",
   "metadata": {
    "execution": {
     "iopub.execute_input": "2023-10-25T00:59:43.285899Z",
     "iopub.status.busy": "2023-10-25T00:59:43.285458Z",
     "iopub.status.idle": "2023-10-25T00:59:43.408860Z",
     "shell.execute_reply": "2023-10-25T00:59:43.407723Z"
    },
    "papermill": {
     "duration": 0.137388,
     "end_time": "2023-10-25T00:59:43.411703",
     "exception": false,
     "start_time": "2023-10-25T00:59:43.274315",
     "status": "completed"
    },
    "tags": []
   },
   "outputs": [
    {
     "name": "stdout",
     "output_type": "stream",
     "text": [
      "Entropy best_average=  78.31729626989784\n",
      "Gini average=  76.46709432169162\n"
     ]
    }
   ],
   "source": [
    "#Using the stratified k-fold in built function\n",
    "rm1=StratifiedKFold(n_splits=5,shuffle=True,random_state=42)\n",
    "#K will be the training data for the validation\n",
    "K=processing\n",
    "#’Heart Disease’ will be the testing data \n",
    "k=set['HeartDisease']\n",
    "for m,(ind_training,ind_testing) in enumerate(rm1.split(K.values,k.values)):\n",
    "    K_training,K_testing=K.iloc[ind_training],K.iloc[ind_testing]\n",
    "    k_training,k_testing=k.iloc[ind_training],k.iloc[ind_testing]\n",
    "#Decision tree is the classification model used for modeling for gini\n",
    "    rm2_gini=DecisionTreeClassifier(criterion='gini',max_depth=10*processing.shape[0])\n",
    "    rm2_gini.fit(K_training,k_training)\n",
    "#Predicting the accuracy for the testing data - gini\n",
    "    k_forecast=rm2_gini.predict(K_testing)\n",
    "    accuracy_1.append(accuracy_score(k_testing,k_forecast))\n",
    "#Decision tree is the classification model used for modeling for entropy\n",
    "    rm2_entropy=DecisionTreeClassifier(criterion='entropy',max_depth=10*processing.shape[0])\n",
    "    rm2_entropy.fit(K_training,k_training)\n",
    "    k_forecast=rm2_entropy.predict(K_testing)\n",
    "#Predicting the accuracy for the testing data - entropy\n",
    "    accuracy_2.append(accuracy_score(k_testing,k_forecast))\n",
    "if(rrr.average(accuracy_1)>rrr.average(accuracy_2)):\n",
    "#Printing percentage of all the accuracies for gini and entropy\n",
    "    print('Gini Best_average= ',(rrr.average(accuracy_1)*100))\n",
    "    print('Entropy average= ',(rrr.average(accuracy_2)*100))\n",
    "else:\n",
    "    print('Entropy best_average= ',(rrr.average(accuracy_2)*100))\n",
    "    print('Gini average= ',(rrr.average(accuracy_1)*100))\n"
   ]
  },
  {
   "cell_type": "code",
   "execution_count": 17,
   "id": "cd1c58e8",
   "metadata": {
    "execution": {
     "iopub.execute_input": "2023-10-25T00:59:43.432840Z",
     "iopub.status.busy": "2023-10-25T00:59:43.432356Z",
     "iopub.status.idle": "2023-10-25T00:59:43.438868Z",
     "shell.execute_reply": "2023-10-25T00:59:43.437954Z"
    },
    "papermill": {
     "duration": 0.01988,
     "end_time": "2023-10-25T00:59:43.441149",
     "exception": false,
     "start_time": "2023-10-25T00:59:43.421269",
     "status": "completed"
    },
    "tags": []
   },
   "outputs": [
    {
     "data": {
      "text/plain": [
       "[0.7880434782608695,\n",
       " 0.7771739130434783,\n",
       " 0.7608695652173914,\n",
       " 0.7486338797814208,\n",
       " 0.7486338797814208]"
      ]
     },
     "execution_count": 17,
     "metadata": {},
     "output_type": "execute_result"
    }
   ],
   "source": [
    "#The precisions for gini and entropy at every fold: \n",
    "accuracy_1"
   ]
  },
  {
   "cell_type": "code",
   "execution_count": 18,
   "id": "ff2b3a7d",
   "metadata": {
    "execution": {
     "iopub.execute_input": "2023-10-25T00:59:43.462273Z",
     "iopub.status.busy": "2023-10-25T00:59:43.461860Z",
     "iopub.status.idle": "2023-10-25T00:59:43.469940Z",
     "shell.execute_reply": "2023-10-25T00:59:43.468723Z"
    },
    "papermill": {
     "duration": 0.02169,
     "end_time": "2023-10-25T00:59:43.472440",
     "exception": false,
     "start_time": "2023-10-25T00:59:43.450750",
     "status": "completed"
    },
    "tags": []
   },
   "outputs": [
    {
     "data": {
      "text/plain": [
       "[0.8260869565217391,\n",
       " 0.8043478260869565,\n",
       " 0.7663043478260869,\n",
       " 0.7704918032786885,\n",
       " 0.7486338797814208]"
      ]
     },
     "execution_count": 18,
     "metadata": {},
     "output_type": "execute_result"
    }
   ],
   "source": [
    "accuracy_2"
   ]
  },
  {
   "cell_type": "markdown",
   "id": "1d640fbc",
   "metadata": {
    "papermill": {
     "duration": 0.009799,
     "end_time": "2023-10-25T00:59:43.492007",
     "exception": false,
     "start_time": "2023-10-25T00:59:43.482208",
     "status": "completed"
    },
    "tags": []
   },
   "source": [
    "Decision tree classifier for the entropy of maximum depth 10 * processing.shape[0]."
   ]
  }
 ],
 "metadata": {
  "kernelspec": {
   "display_name": "Python 3",
   "language": "python",
   "name": "python3"
  },
  "language_info": {
   "codemirror_mode": {
    "name": "ipython",
    "version": 3
   },
   "file_extension": ".py",
   "mimetype": "text/x-python",
   "name": "python",
   "nbconvert_exporter": "python",
   "pygments_lexer": "ipython3",
   "version": "3.10.12"
  },
  "papermill": {
   "default_parameters": {},
   "duration": 8.429006,
   "end_time": "2023-10-25T00:59:44.424518",
   "environment_variables": {},
   "exception": null,
   "input_path": "__notebook__.ipynb",
   "output_path": "__notebook__.ipynb",
   "parameters": {},
   "start_time": "2023-10-25T00:59:35.995512",
   "version": "2.4.0"
  }
 },
 "nbformat": 4,
 "nbformat_minor": 5
}
